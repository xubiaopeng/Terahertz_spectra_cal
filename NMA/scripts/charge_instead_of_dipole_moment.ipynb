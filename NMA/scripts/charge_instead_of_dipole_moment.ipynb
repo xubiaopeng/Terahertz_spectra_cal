{
 "cells": [
  {
   "cell_type": "markdown",
   "metadata": {},
   "source": [
    "# Is it possible to use charge for intensity calculations instead of dipole moment?\n",
    "\n",
    "We want to calculate the intesnity using the following formula (modified accordingly to what I and Mohammad discussed yesterday):\n",
    "\n",
    "$ I_i = |\\sum_{j=1}^{3N} \\frac{\\partial \\vec{\\mu}_i}{\\partial r_j}X_{ji}|^2$\n"
   ]
  },
  {
   "cell_type": "markdown",
   "metadata": {},
   "source": [
    "We have the eigenvectors but we do not have the the partial derivatives. So the questions is: is there an easier way to calculate this? The general expression forcalculating dipole moment is:\n",
    "\n",
    "$\\vec{\\mu}=\\sum_{i=1}^{N} q_i\\vec{r}_i$"
   ]
  },
  {
   "cell_type": "markdown",
   "metadata": {},
   "source": [
    "For carbon monoxide ($N=2$) this is:\n",
    "\n",
    "$\\vec{\\mu}=\\sum_{i=1}^{2} q_i\\vec{r}_i = q_1\\vec{r}_1 + q_2\\vec{r}_2 = q_1(r_{x,1}, r_{y,1},r_{z,1}) + q_2(r_{x,2}, r_{y,2},r_{z,2})$"
   ]
  },
  {
   "cell_type": "markdown",
   "metadata": {},
   "source": [
    "Assuming that $\\mu_1 = \\mu_2 = $ ... $ = \\mu_i = $ ... $ = \\mu_{3N}$ (i.e. that $\\mu$ is the same for each mode), we get the following partial derivatives for the first intensity of carbon monoxide ($\\mu_1$):\n",
    "\n",
    "$\\frac{\\partial \\vec{\\mu}}{\\partial r_{x,1}} = \\frac{\\partial (q_1(r_{x,1}, r_{y,1},r_{z,1}) + q_2(r_{x,2}, r_{y,2},r_{z,2}))}{\\partial r_{x,1}} = \\frac{q_1 \\partial (r_{x,1}, r_{y,1},r_{z,1})}{\\partial r_{x,1}} + \\frac{q_2 \\partial (r_{x,2}, r_{y,2},r_{z,2})}{\\partial r_{x,1}} = q_1 (\\frac{\\partial r_{x,1}}{ \\partial r_{x,1}}, \\frac{\\partial r_{y,1}}{ \\partial r_{x,1}}, \\frac{\\partial r_{z,1}}{ \\partial r_{x,1}}) + q_2 (\\frac{\\partial r_{x,2}}{ \\partial r_{x,1}}, \\frac{\\partial r_{y,2}}{ \\partial r_{x,1}}, \\frac{\\partial r_{z,2}}{ \\partial r_{x,1}}) = q_1(1, 0, 0) + q_2(0, 0, 0)$\n",
    "\n",
    "$\\frac{\\partial \\vec{\\mu}}{\\partial r_{y,1}} = \\frac{\\partial (q_1(r_{x,1}, r_{y,1},r_{z,1}) + q_2(r_{x,2}, r_{y,2},r_{z,2}))}{\\partial r_{y,1}} = \\frac{q_1 \\partial (r_{x,1}, r_{y,1},r_{z,1})}{\\partial r_{y,1}} + \\frac{q_2 \\partial (r_{x,2}, r_{y,2},r_{z,2})}{\\partial r_{y,1}} = q_1 (\\frac{\\partial r_{x,1}}{ \\partial r_{y,1}}, \\frac{\\partial r_{y,1}}{ \\partial r_{y,1}}, \\frac{\\partial r_{z,1}}{ \\partial r_{y,1}}) + q_2 (\\frac{\\partial r_{x,2}}{ \\partial r_{y,1}}, \\frac{\\partial r_{y,2}}{ \\partial r_{y,1}}, \\frac{\\partial r_{z,2}}{ \\partial r_{y,1}}) = q_1(0, 1, 0) + q_2(0, 0, 0)$\n",
    "\n",
    "$\\frac{\\partial \\vec{\\mu}}{\\partial r_{z,1}} = \\frac{\\partial (q_1(r_{x,1}, r_{y,1},r_{z,1}) + q_2(r_{x,2}, r_{y,2},r_{z,2}))}{\\partial r_{z,1}} = \\frac{q_1 \\partial (r_{x,1}, r_{y,1},r_{z,1})}{\\partial r_{z,1}} + \\frac{q_2 \\partial (r_{x,2}, r_{y,2},r_{z,2})}{\\partial r_{z,1}} = q_1 (\\frac{\\partial r_{x,1}}{ \\partial r_{z,1}}, \\frac{\\partial r_{y,1}}{ \\partial r_{z,1}}, \\frac{\\partial r_{z,1}}{ \\partial r_{z,1}}) + q_2 (\\frac{\\partial r_{x,2}}{ \\partial r_{z,1}}, \\frac{\\partial r_{y,2}}{ \\partial r_{z,1}}, \\frac{\\partial r_{z,2}}{ \\partial r_{z,1}}) = q_1(0, 0, 1) + q_2(0, 0, 0)$\n",
    "\n",
    "$\\frac{\\partial \\vec{\\mu}}{\\partial r_{x,2}} = \\frac{\\partial (q_1(r_{x,1}, r_{y,1},r_{z,1}) + q_2(r_{x,2}, r_{y,2},r_{z,2}))}{\\partial r_{x,2}} = \\frac{q_1 \\partial (r_{x,1}, r_{y,1},r_{z,1})}{\\partial r_{x,2}} + \\frac{q_2 \\partial (r_{x,2}, r_{y,2},r_{z,2})}{\\partial r_{x,2}} = q_1 (\\frac{\\partial r_{x,1}}{ \\partial r_{x,2}}, \\frac{\\partial r_{y,1}}{ \\partial r_{x,2}}, \\frac{\\partial r_{z,1}}{ \\partial r_{x,2}}) + q_2 (\\frac{\\partial r_{x,2}}{ \\partial r_{x,2}}, \\frac{\\partial r_{y,2}}{ \\partial r_{x,2}}, \\frac{\\partial r_{z,2}}{ \\partial r_{x,2}}) = q_1(0, 0, 0) + q_2(1, 0, 0)$\n",
    "\n",
    "$\\frac{\\partial \\vec{\\mu}}{\\partial r_{y,2}} = \\frac{\\partial (q_1(r_{x,1}, r_{y,1},r_{z,1}) + q_2(r_{x,2}, r_{y,2},r_{z,2}))}{\\partial r_{y,2}} = \\frac{q_1 \\partial (r_{x,1}, r_{y,1},r_{z,1})}{\\partial r_{y,2}} + \\frac{q_2 \\partial (r_{x,2}, r_{y,2},r_{z,2})}{\\partial r_{y,2}} = q_1 (\\frac{\\partial r_{x,1}}{ \\partial r_{y,2}}, \\frac{\\partial r_{y,1}}{ \\partial r_{y,2}}, \\frac{\\partial r_{z,1}}{ \\partial r_{y,2}}) + q_2 (\\frac{\\partial r_{x,2}}{ \\partial r_{y,2}}, \\frac{\\partial r_{y,2}}{ \\partial r_{y,2}}, \\frac{\\partial r_{z,2}}{ \\partial r_{y,2}}) = q_1(0, 0, 0) + q_2(0, 1, 0)$\n",
    "\n",
    "$\\frac{\\partial \\vec{\\mu}}{\\partial r_{z,2}} = \\frac{\\partial (q_1(r_{x,1}, r_{y,1},r_{z,1}) + q_2(r_{x,2}, r_{y,2},r_{z,2}))}{\\partial r_{z,2}} = \\frac{q_1 \\partial (r_{x,1}, r_{y,1},r_{z,1})}{\\partial r_{z,2}} + \\frac{q_2 \\partial (r_{x,2}, r_{y,2},r_{z,2})}{\\partial r_{z,2}} = q_1 (\\frac{\\partial r_{x,1}}{ \\partial r_{z,2}}, \\frac{\\partial r_{y,1}}{ \\partial r_{z,2}}, \\frac{\\partial r_{z,1}}{ \\partial r_{z,2}}) + q_2 (\\frac{\\partial r_{x,2}}{ \\partial r_{z,2}}, \\frac{\\partial r_{y,2}}{ \\partial r_{z,2}}, \\frac{\\partial r_{z,2}}{ \\partial r_{z,2}}) = q_1(0, 0, 0) + q_2(0, 0, 1)$"
   ]
  },
  {
   "cell_type": "markdown",
   "metadata": {},
   "source": [
    "And we finally get:\n",
    "\n",
    "$\\frac{\\partial \\vec{\\mu}}{\\partial r_{x,1}} = (q_1, 0, 0)$\n",
    "\n",
    "$\\frac{\\partial \\vec{\\mu}}{\\partial r_{y,1}} = (0, q_1, 0)$\n",
    "\n",
    "$\\frac{\\partial \\vec{\\mu}}{\\partial r_{z,1}} = (0, 0, q_1)$\n",
    "\n",
    "$\\frac{\\partial \\vec{\\mu}}{\\partial r_{x,2}} = (q_2, 0, 0)$\n",
    "\n",
    "$\\frac{\\partial \\vec{\\mu}}{\\partial r_{y,2}} = (0, q_2, 0)$\n",
    "\n",
    "$\\frac{\\partial \\vec{\\mu}}{\\partial r_{z,2}} = (0, 0, q_2)$\n",
    "\n",
    "Using this, we can calculate the intensitity for the first mode. "
   ]
  },
  {
   "cell_type": "markdown",
   "metadata": {},
   "source": [
    "# BUT:\n",
    "\n",
    "If $\\mu_1 \\neq \\mu_2 \\neq $ ... $ \\neq \\mu_i \\neq $ ... $ \\neq \\mu_{3N}$, we will have different charges on the atoms for each mode, which will make the calculations harder. The question is, how can we calculate the charges on each atoms for each mode? Is it easy? For each $\\mu$ (a total of $3N$, one for each mode) we need N charges:\n",
    "\n",
    "\\begin{bmatrix} \n",
    "q_{1,1} & q_{1,2} & ...     & q_{1,3N} \\\\\n",
    "q_{2,1} & q_{2,2} & ...     & q_{2,3N} \\\\\n",
    "\\vdots  & \\vdots  & \\ddots  & \\vdots   \\\\\n",
    "q_{N,1} & q_{N,2} & ...     & q_{N,3N}\n",
    "\\end{bmatrix}\n",
    "\n",
    "But then again, we started with only one point charge in our _topol.top_ file. Maybe the charges we have don't differ too much between the modes and is still a good approximation? Then we can do as we did above and we only need one set of N atom charges:\n",
    "\n",
    "\\begin{bmatrix} \n",
    "q_{1} \\\\\n",
    "q_{2} \\\\\n",
    "\\vdots  \\\\\n",
    "q_{N}\n",
    "\\end{bmatrix}"
   ]
  },
  {
   "cell_type": "markdown",
   "metadata": {},
   "source": [
    "### Thoughts?"
   ]
  }
 ],
 "metadata": {
  "kernelspec": {
   "display_name": "Python 3",
   "language": "python",
   "name": "python3"
  },
  "language_info": {
   "codemirror_mode": {
    "name": "ipython",
    "version": 3
   },
   "file_extension": ".py",
   "mimetype": "text/x-python",
   "name": "python",
   "nbconvert_exporter": "python",
   "pygments_lexer": "ipython3",
   "version": "3.6.7"
  }
 },
 "nbformat": 4,
 "nbformat_minor": 2
}
